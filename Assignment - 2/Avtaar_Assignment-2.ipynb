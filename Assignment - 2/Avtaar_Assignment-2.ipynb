{
  "nbformat": 4,
  "nbformat_minor": 0,
  "metadata": {
    "colab": {
      "name": "Avtaar | Assignment - #2.ipynb",
      "provenance": [],
      "collapsed_sections": []
    },
    "kernelspec": {
      "name": "python3",
      "display_name": "Python 3"
    },
    "language_info": {
      "name": "python"
    }
  },
  "cells": [
    {
      "cell_type": "markdown",
      "source": [
        "## Importing Required Libraries"
      ],
      "metadata": {
        "id": "yl7PD8lekvNR"
      }
    },
    {
      "cell_type": "code",
      "execution_count": 10,
      "metadata": {
        "id": "tPtX5h9-Ac0X"
      },
      "outputs": [],
      "source": [
        "import pandas as pd\n",
        "import requests\n",
        "from bs4 import BeautifulSoup"
      ]
    },
    {
      "cell_type": "markdown",
      "source": [
        "## Getting URL"
      ],
      "metadata": {
        "id": "sUEFvDkzk0KG"
      }
    },
    {
      "cell_type": "code",
      "source": [
        "url = 'https://en.wikipedia.org/wiki/List_of_highest-grossing_Indian_films'\n",
        "page = requests.get(url)"
      ],
      "metadata": {
        "id": "62A6_GtGDSEh"
      },
      "execution_count": 11,
      "outputs": []
    },
    {
      "cell_type": "markdown",
      "source": [
        "## Creating BeautifulSoup object"
      ],
      "metadata": {
        "id": "4RmJBjcFlEQN"
      }
    },
    {
      "cell_type": "code",
      "source": [
        "soup = BeautifulSoup(page.content, 'html.parser')"
      ],
      "metadata": {
        "id": "FfZTCzTTDk97"
      },
      "execution_count": 12,
      "outputs": []
    },
    {
      "cell_type": "markdown",
      "source": [
        "## Finding Details of Movies"
      ],
      "metadata": {
        "id": "8x2ubU-8lIb1"
      }
    },
    {
      "cell_type": "code",
      "source": [
        "data = soup.find_all(\"tr\")"
      ],
      "metadata": {
        "id": "yEyFOC__Du5D"
      },
      "execution_count": 13,
      "outputs": []
    },
    {
      "cell_type": "markdown",
      "source": [
        "## Looking into the Text"
      ],
      "metadata": {
        "id": "Qh3z1nSalMpm"
      }
    },
    {
      "cell_type": "code",
      "source": [
        "data[5].get_text()"
      ],
      "metadata": {
        "colab": {
          "base_uri": "https://localhost:8080/",
          "height": 52
        },
        "id": "5tS_jQdtEf2c",
        "outputId": "3c804170-e270-4713-e80e-f97a8f04c193"
      },
      "execution_count": 14,
      "outputs": [
        {
          "output_type": "execute_result",
          "data": {
            "application/vnd.google.colaboratory.intrinsic+json": {
              "type": "string"
            },
            "text/plain": [
              "'\\n1\\n\\n1\\n\\nDangal\\n\\n2016\\n\\nNitesh Tiwari\\n\\nAamir Khan Productions  UTV Motion Pictures  Walt Disney Studios India\\n\\nHindi\\n\\n ₹2,024 crore (US$287 million)\\n\\n[9]\\n'"
            ]
          },
          "metadata": {},
          "execution_count": 14
        }
      ]
    },
    {
      "cell_type": "markdown",
      "source": [
        "## Creating Empty Lists"
      ],
      "metadata": {
        "id": "TVMutInslQ8F"
      }
    },
    {
      "cell_type": "code",
      "source": [
        "title = []\n",
        "year = []\n",
        "director = []\n",
        "cast = []\n",
        "money = []"
      ],
      "metadata": {
        "id": "qnmR9_qtRX8G"
      },
      "execution_count": 15,
      "outputs": []
    },
    {
      "cell_type": "markdown",
      "source": [
        "## Loop to get top 5 Movies"
      ],
      "metadata": {
        "id": "ZoDNytsSlUbs"
      }
    },
    {
      "cell_type": "code",
      "source": [
        "for i in range(5, 10):\n",
        "    details = data[i].get_text()\n",
        "    a = details.split('\\n\\n')\n",
        "    title.append(a[2])\n",
        "    year.append(a[3])\n",
        "    director.append(a[4])\n",
        "    cast.append(a[5])\n",
        "    money.append(a[-2])"
      ],
      "metadata": {
        "id": "kCM4hnGQQ9xp"
      },
      "execution_count": 16,
      "outputs": []
    },
    {
      "cell_type": "markdown",
      "source": [
        "## Converting Lists into DataFrame"
      ],
      "metadata": {
        "id": "MiBT47C4laIt"
      }
    },
    {
      "cell_type": "code",
      "source": [
        "df = pd.DataFrame(list(zip(title, director, year, money, cast)), \n",
        "                  columns = ['Movie', 'Director', 'Year', 'Overall Gross Earning', 'Cast'])"
      ],
      "metadata": {
        "id": "oHx62uhVSV76"
      },
      "execution_count": 17,
      "outputs": []
    },
    {
      "cell_type": "markdown",
      "source": [
        "## Final Data"
      ],
      "metadata": {
        "id": "OOsZEh8yleV7"
      }
    },
    {
      "cell_type": "code",
      "source": [
        "df"
      ],
      "metadata": {
        "colab": {
          "base_uri": "https://localhost:8080/",
          "height": 206
        },
        "id": "NtqFtsV2T6R1",
        "outputId": "6d39cec0-e0f5-412b-f2db-f955cc6f827b"
      },
      "execution_count": 18,
      "outputs": [
        {
          "output_type": "execute_result",
          "data": {
            "text/html": [
              "\n",
              "  <div id=\"df-6d9ec108-5499-457f-b919-7bb10d21ae5b\">\n",
              "    <div class=\"colab-df-container\">\n",
              "      <div>\n",
              "<style scoped>\n",
              "    .dataframe tbody tr th:only-of-type {\n",
              "        vertical-align: middle;\n",
              "    }\n",
              "\n",
              "    .dataframe tbody tr th {\n",
              "        vertical-align: top;\n",
              "    }\n",
              "\n",
              "    .dataframe thead th {\n",
              "        text-align: right;\n",
              "    }\n",
              "</style>\n",
              "<table border=\"1\" class=\"dataframe\">\n",
              "  <thead>\n",
              "    <tr style=\"text-align: right;\">\n",
              "      <th></th>\n",
              "      <th>Movie</th>\n",
              "      <th>Director</th>\n",
              "      <th>Year</th>\n",
              "      <th>Overall Gross Earning</th>\n",
              "      <th>Cast</th>\n",
              "    </tr>\n",
              "  </thead>\n",
              "  <tbody>\n",
              "    <tr>\n",
              "      <th>0</th>\n",
              "      <td>Dangal</td>\n",
              "      <td>Nitesh Tiwari</td>\n",
              "      <td>2016</td>\n",
              "      <td>₹2,024 crore (US$287 million)</td>\n",
              "      <td>Aamir Khan Productions  UTV Motion Pictures  W...</td>\n",
              "    </tr>\n",
              "    <tr>\n",
              "      <th>1</th>\n",
              "      <td>Baahubali 2: The Conclusion</td>\n",
              "      <td>S. S. Rajamouli</td>\n",
              "      <td>2017</td>\n",
              "      <td>₹1,810 crore (US$257 million)</td>\n",
              "      <td>Arka Media Works</td>\n",
              "    </tr>\n",
              "    <tr>\n",
              "      <th>2</th>\n",
              "      <td>Bajrangi Bhaijaan</td>\n",
              "      <td>Kabir Khan</td>\n",
              "      <td>2015</td>\n",
              "      <td>₹969.06 crore (US$150 million)</td>\n",
              "      <td>Salman Khan Films  Kabir Khan Films  Eros Inte...</td>\n",
              "    </tr>\n",
              "    <tr>\n",
              "      <th>3</th>\n",
              "      <td>Secret Superstar</td>\n",
              "      <td>Advait Chandan</td>\n",
              "      <td>2017</td>\n",
              "      <td>₹966.86 crore (US$154 million)</td>\n",
              "      <td>Aamir Khan Productions</td>\n",
              "    </tr>\n",
              "    <tr>\n",
              "      <th>4</th>\n",
              "      <td>PK</td>\n",
              "      <td>Rajkumar Hirani</td>\n",
              "      <td>2014</td>\n",
              "      <td>₹832 crore (US$120 million)</td>\n",
              "      <td>Vinod Chopra Films  Rajkumar Hirani Films</td>\n",
              "    </tr>\n",
              "  </tbody>\n",
              "</table>\n",
              "</div>\n",
              "      <button class=\"colab-df-convert\" onclick=\"convertToInteractive('df-6d9ec108-5499-457f-b919-7bb10d21ae5b')\"\n",
              "              title=\"Convert this dataframe to an interactive table.\"\n",
              "              style=\"display:none;\">\n",
              "        \n",
              "  <svg xmlns=\"http://www.w3.org/2000/svg\" height=\"24px\"viewBox=\"0 0 24 24\"\n",
              "       width=\"24px\">\n",
              "    <path d=\"M0 0h24v24H0V0z\" fill=\"none\"/>\n",
              "    <path d=\"M18.56 5.44l.94 2.06.94-2.06 2.06-.94-2.06-.94-.94-2.06-.94 2.06-2.06.94zm-11 1L8.5 8.5l.94-2.06 2.06-.94-2.06-.94L8.5 2.5l-.94 2.06-2.06.94zm10 10l.94 2.06.94-2.06 2.06-.94-2.06-.94-.94-2.06-.94 2.06-2.06.94z\"/><path d=\"M17.41 7.96l-1.37-1.37c-.4-.4-.92-.59-1.43-.59-.52 0-1.04.2-1.43.59L10.3 9.45l-7.72 7.72c-.78.78-.78 2.05 0 2.83L4 21.41c.39.39.9.59 1.41.59.51 0 1.02-.2 1.41-.59l7.78-7.78 2.81-2.81c.8-.78.8-2.07 0-2.86zM5.41 20L4 18.59l7.72-7.72 1.47 1.35L5.41 20z\"/>\n",
              "  </svg>\n",
              "      </button>\n",
              "      \n",
              "  <style>\n",
              "    .colab-df-container {\n",
              "      display:flex;\n",
              "      flex-wrap:wrap;\n",
              "      gap: 12px;\n",
              "    }\n",
              "\n",
              "    .colab-df-convert {\n",
              "      background-color: #E8F0FE;\n",
              "      border: none;\n",
              "      border-radius: 50%;\n",
              "      cursor: pointer;\n",
              "      display: none;\n",
              "      fill: #1967D2;\n",
              "      height: 32px;\n",
              "      padding: 0 0 0 0;\n",
              "      width: 32px;\n",
              "    }\n",
              "\n",
              "    .colab-df-convert:hover {\n",
              "      background-color: #E2EBFA;\n",
              "      box-shadow: 0px 1px 2px rgba(60, 64, 67, 0.3), 0px 1px 3px 1px rgba(60, 64, 67, 0.15);\n",
              "      fill: #174EA6;\n",
              "    }\n",
              "\n",
              "    [theme=dark] .colab-df-convert {\n",
              "      background-color: #3B4455;\n",
              "      fill: #D2E3FC;\n",
              "    }\n",
              "\n",
              "    [theme=dark] .colab-df-convert:hover {\n",
              "      background-color: #434B5C;\n",
              "      box-shadow: 0px 1px 3px 1px rgba(0, 0, 0, 0.15);\n",
              "      filter: drop-shadow(0px 1px 2px rgba(0, 0, 0, 0.3));\n",
              "      fill: #FFFFFF;\n",
              "    }\n",
              "  </style>\n",
              "\n",
              "      <script>\n",
              "        const buttonEl =\n",
              "          document.querySelector('#df-6d9ec108-5499-457f-b919-7bb10d21ae5b button.colab-df-convert');\n",
              "        buttonEl.style.display =\n",
              "          google.colab.kernel.accessAllowed ? 'block' : 'none';\n",
              "\n",
              "        async function convertToInteractive(key) {\n",
              "          const element = document.querySelector('#df-6d9ec108-5499-457f-b919-7bb10d21ae5b');\n",
              "          const dataTable =\n",
              "            await google.colab.kernel.invokeFunction('convertToInteractive',\n",
              "                                                     [key], {});\n",
              "          if (!dataTable) return;\n",
              "\n",
              "          const docLinkHtml = 'Like what you see? Visit the ' +\n",
              "            '<a target=\"_blank\" href=https://colab.research.google.com/notebooks/data_table.ipynb>data table notebook</a>'\n",
              "            + ' to learn more about interactive tables.';\n",
              "          element.innerHTML = '';\n",
              "          dataTable['output_type'] = 'display_data';\n",
              "          await google.colab.output.renderOutput(dataTable, element);\n",
              "          const docLink = document.createElement('div');\n",
              "          docLink.innerHTML = docLinkHtml;\n",
              "          element.appendChild(docLink);\n",
              "        }\n",
              "      </script>\n",
              "    </div>\n",
              "  </div>\n",
              "  "
            ],
            "text/plain": [
              "                         Movie  ...                                               Cast\n",
              "0                       Dangal  ...  Aamir Khan Productions  UTV Motion Pictures  W...\n",
              "1  Baahubali 2: The Conclusion  ...                                   Arka Media Works\n",
              "2            Bajrangi Bhaijaan  ...  Salman Khan Films  Kabir Khan Films  Eros Inte...\n",
              "3             Secret Superstar  ...                             Aamir Khan Productions\n",
              "4                           PK  ...          Vinod Chopra Films  Rajkumar Hirani Films\n",
              "\n",
              "[5 rows x 5 columns]"
            ]
          },
          "metadata": {},
          "execution_count": 18
        }
      ]
    }
  ]
}