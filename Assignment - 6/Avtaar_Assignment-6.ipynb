{
 "cells": [
  {
   "cell_type": "markdown",
   "id": "94a6ceb5",
   "metadata": {
    "papermill": {
     "duration": 0.020245,
     "end_time": "2021-12-27T13:49:53.567666",
     "exception": false,
     "start_time": "2021-12-27T13:49:53.547421",
     "status": "completed"
    },
    "tags": []
   },
   "source": [
    "![](https://miro.medium.com/max/809/0*tamvSiqDneDfw2Vr)"
   ]
  },
  {
   "cell_type": "markdown",
   "id": "635c1bb6",
   "metadata": {
    "papermill": {
     "duration": 0.01921,
     "end_time": "2021-12-27T13:49:53.606279",
     "exception": false,
     "start_time": "2021-12-27T13:49:53.587069",
     "status": "completed"
    },
    "tags": []
   },
   "source": [
    "## Importing Libraries"
   ]
  },
  {
   "cell_type": "code",
   "execution_count": 1,
   "id": "3cd2349c",
   "metadata": {
    "execution": {
     "iopub.execute_input": "2021-12-27T13:49:53.655571Z",
     "iopub.status.busy": "2021-12-27T13:49:53.654827Z",
     "iopub.status.idle": "2021-12-27T13:49:55.927217Z",
     "shell.execute_reply": "2021-12-27T13:49:55.926439Z",
     "shell.execute_reply.started": "2021-12-27T13:30:20.643499Z"
    },
    "papermill": {
     "duration": 2.302009,
     "end_time": "2021-12-27T13:49:55.927411",
     "exception": false,
     "start_time": "2021-12-27T13:49:53.625402",
     "status": "completed"
    },
    "tags": []
   },
   "outputs": [],
   "source": [
    "import numpy as np\n",
    "import pandas as pd\n",
    "pd.set_option('display.max_columns', None)\n",
    "import matplotlib.pyplot as plt\n",
    "import seaborn as sns\n",
    "sns.set_style('darkgrid')\n",
    "import plotly.express as px\n",
    "import warnings\n",
    "warnings.filterwarnings('ignore')"
   ]
  },
  {
   "cell_type": "markdown",
   "id": "1b7d0c09",
   "metadata": {
    "papermill": {
     "duration": 0.018861,
     "end_time": "2021-12-27T13:49:55.966293",
     "exception": false,
     "start_time": "2021-12-27T13:49:55.947432",
     "status": "completed"
    },
    "tags": []
   },
   "source": [
    "## Loading Dataset"
   ]
  },
  {
   "cell_type": "code",
   "execution_count": 2,
   "id": "c65fc206",
   "metadata": {
    "execution": {
     "iopub.execute_input": "2021-12-27T13:49:56.017444Z",
     "iopub.status.busy": "2021-12-27T13:49:56.010405Z",
     "iopub.status.idle": "2021-12-27T13:49:57.444551Z",
     "shell.execute_reply": "2021-12-27T13:49:57.445100Z",
     "shell.execute_reply.started": "2021-12-27T13:40:49.587353Z"
    },
    "papermill": {
     "duration": 1.459748,
     "end_time": "2021-12-27T13:49:57.445277",
     "exception": false,
     "start_time": "2021-12-27T13:49:55.985529",
     "status": "completed"
    },
    "tags": []
   },
   "outputs": [
    {
     "data": {
      "text/html": [
       "<div>\n",
       "<style scoped>\n",
       "    .dataframe tbody tr th:only-of-type {\n",
       "        vertical-align: middle;\n",
       "    }\n",
       "\n",
       "    .dataframe tbody tr th {\n",
       "        vertical-align: top;\n",
       "    }\n",
       "\n",
       "    .dataframe thead th {\n",
       "        text-align: right;\n",
       "    }\n",
       "</style>\n",
       "<table border=\"1\" class=\"dataframe\">\n",
       "  <thead>\n",
       "    <tr style=\"text-align: right;\">\n",
       "      <th></th>\n",
       "      <th>Unnamed: 0</th>\n",
       "      <th>StartDate</th>\n",
       "      <th>EndDate</th>\n",
       "      <th>q0001</th>\n",
       "      <th>q0002</th>\n",
       "      <th>q0004_0001</th>\n",
       "      <th>q0004_0002</th>\n",
       "      <th>q0004_0003</th>\n",
       "      <th>q0004_0004</th>\n",
       "      <th>q0004_0005</th>\n",
       "      <th>q0004_0006</th>\n",
       "      <th>q0005</th>\n",
       "      <th>q0007_0001</th>\n",
       "      <th>q0007_0002</th>\n",
       "      <th>q0007_0003</th>\n",
       "      <th>q0007_0004</th>\n",
       "      <th>q0007_0005</th>\n",
       "      <th>q0007_0006</th>\n",
       "      <th>q0007_0007</th>\n",
       "      <th>q0007_0008</th>\n",
       "      <th>q0007_0009</th>\n",
       "      <th>q0007_0010</th>\n",
       "      <th>q0007_0011</th>\n",
       "      <th>q0008_0001</th>\n",
       "      <th>q0008_0002</th>\n",
       "      <th>q0008_0003</th>\n",
       "      <th>q0008_0004</th>\n",
       "      <th>q0008_0005</th>\n",
       "      <th>q0008_0006</th>\n",
       "      <th>q0008_0007</th>\n",
       "      <th>q0008_0008</th>\n",
       "      <th>q0008_0009</th>\n",
       "      <th>q0008_0010</th>\n",
       "      <th>q0008_0011</th>\n",
       "      <th>q0008_0012</th>\n",
       "      <th>q0009</th>\n",
       "      <th>q0010_0001</th>\n",
       "      <th>q0010_0002</th>\n",
       "      <th>q0010_0003</th>\n",
       "      <th>q0010_0004</th>\n",
       "      <th>q0010_0005</th>\n",
       "      <th>q0010_0006</th>\n",
       "      <th>q0010_0007</th>\n",
       "      <th>q0010_0008</th>\n",
       "      <th>q0011_0001</th>\n",
       "      <th>q0011_0002</th>\n",
       "      <th>q0011_0003</th>\n",
       "      <th>q0011_0004</th>\n",
       "      <th>q0011_0005</th>\n",
       "      <th>q0012_0001</th>\n",
       "      <th>q0012_0002</th>\n",
       "      <th>q0012_0003</th>\n",
       "      <th>q0012_0004</th>\n",
       "      <th>q0012_0005</th>\n",
       "      <th>q0012_0006</th>\n",
       "      <th>q0012_0007</th>\n",
       "      <th>q0013</th>\n",
       "      <th>q0014</th>\n",
       "      <th>q0015</th>\n",
       "      <th>q0017</th>\n",
       "      <th>q0018</th>\n",
       "      <th>q0019_0001</th>\n",
       "      <th>q0019_0002</th>\n",
       "      <th>q0019_0003</th>\n",
       "      <th>q0019_0004</th>\n",
       "      <th>q0019_0005</th>\n",
       "      <th>q0019_0006</th>\n",
       "      <th>q0019_0007</th>\n",
       "      <th>q0020_0001</th>\n",
       "      <th>q0020_0002</th>\n",
       "      <th>q0020_0003</th>\n",
       "      <th>q0020_0004</th>\n",
       "      <th>q0020_0005</th>\n",
       "      <th>q0020_0006</th>\n",
       "      <th>q0021_0001</th>\n",
       "      <th>q0021_0002</th>\n",
       "      <th>q0021_0003</th>\n",
       "      <th>q0021_0004</th>\n",
       "      <th>q0022</th>\n",
       "      <th>q0024</th>\n",
       "      <th>q0025_0001</th>\n",
       "      <th>q0025_0002</th>\n",
       "      <th>q0025_0003</th>\n",
       "      <th>q0026</th>\n",
       "      <th>q0028</th>\n",
       "      <th>q0029</th>\n",
       "      <th>q0030</th>\n",
       "      <th>q0034</th>\n",
       "      <th>q0035</th>\n",
       "      <th>q0036</th>\n",
       "      <th>race2</th>\n",
       "      <th>racethn4</th>\n",
       "      <th>educ3</th>\n",
       "      <th>educ4</th>\n",
       "      <th>age3</th>\n",
       "      <th>kids</th>\n",
       "      <th>orientation</th>\n",
       "      <th>weight</th>\n",
       "    </tr>\n",
       "  </thead>\n",
       "  <tbody>\n",
       "    <tr>\n",
       "      <th>0</th>\n",
       "      <td>1</td>\n",
       "      <td>5/10/18 4:01</td>\n",
       "      <td>5/10/18 4:06</td>\n",
       "      <td>Somewhat masculine</td>\n",
       "      <td>Somewhat important</td>\n",
       "      <td>Not selected</td>\n",
       "      <td>Not selected</td>\n",
       "      <td>Not selected</td>\n",
       "      <td>Pop culture</td>\n",
       "      <td>Not selected</td>\n",
       "      <td>Not selected</td>\n",
       "      <td>Yes</td>\n",
       "      <td>Often</td>\n",
       "      <td>Often</td>\n",
       "      <td>Often</td>\n",
       "      <td>Often</td>\n",
       "      <td>Never, and not open to it</td>\n",
       "      <td>Never, and not open to it</td>\n",
       "      <td>Often</td>\n",
       "      <td>Sometimes</td>\n",
       "      <td>Sometimes</td>\n",
       "      <td>Never, and not open to it</td>\n",
       "      <td>Often</td>\n",
       "      <td>Not selected</td>\n",
       "      <td>Not selected</td>\n",
       "      <td>Your hair or hairline</td>\n",
       "      <td>Not selected</td>\n",
       "      <td>Not selected</td>\n",
       "      <td>Not selected</td>\n",
       "      <td>Not selected</td>\n",
       "      <td>Not selected</td>\n",
       "      <td>Your physical health</td>\n",
       "      <td>Your finances, including your current or futur...</td>\n",
       "      <td>Not selected</td>\n",
       "      <td>Not selected</td>\n",
       "      <td>Not employed, NOT looking for work</td>\n",
       "      <td>NaN</td>\n",
       "      <td>NaN</td>\n",
       "      <td>NaN</td>\n",
       "      <td>NaN</td>\n",
       "      <td>NaN</td>\n",
       "      <td>NaN</td>\n",
       "      <td>NaN</td>\n",
       "      <td>NaN</td>\n",
       "      <td>NaN</td>\n",
       "      <td>NaN</td>\n",
       "      <td>NaN</td>\n",
       "      <td>NaN</td>\n",
       "      <td>NaN</td>\n",
       "      <td>NaN</td>\n",
       "      <td>NaN</td>\n",
       "      <td>NaN</td>\n",
       "      <td>NaN</td>\n",
       "      <td>NaN</td>\n",
       "      <td>NaN</td>\n",
       "      <td>NaN</td>\n",
       "      <td>NaN</td>\n",
       "      <td>NaN</td>\n",
       "      <td>NaN</td>\n",
       "      <td>Yes</td>\n",
       "      <td>Sometimes</td>\n",
       "      <td>NaN</td>\n",
       "      <td>NaN</td>\n",
       "      <td>NaN</td>\n",
       "      <td>NaN</td>\n",
       "      <td>NaN</td>\n",
       "      <td>NaN</td>\n",
       "      <td>NaN</td>\n",
       "      <td>Read their physical body language to see if th...</td>\n",
       "      <td>Ask for a verbal confirmation of consent</td>\n",
       "      <td>Make a physical move to see how they react</td>\n",
       "      <td>Every situation is different</td>\n",
       "      <td>It isn?t always clear how to gauge someone?s i...</td>\n",
       "      <td>Not selected</td>\n",
       "      <td>Not selected</td>\n",
       "      <td>Not selected</td>\n",
       "      <td>Not selected</td>\n",
       "      <td>None of the above</td>\n",
       "      <td>No</td>\n",
       "      <td>Never married</td>\n",
       "      <td>Not selected</td>\n",
       "      <td>Not selected</td>\n",
       "      <td>No children</td>\n",
       "      <td>Gay</td>\n",
       "      <td>Hispanic</td>\n",
       "      <td>College graduate</td>\n",
       "      <td>New York</td>\n",
       "      <td>$0-$9,999</td>\n",
       "      <td>Middle Atlantic</td>\n",
       "      <td>Windows Desktop / Laptop</td>\n",
       "      <td>Non-white</td>\n",
       "      <td>Hispanic</td>\n",
       "      <td>College or more</td>\n",
       "      <td>College or more</td>\n",
       "      <td>35 - 64</td>\n",
       "      <td>No children</td>\n",
       "      <td>Gay/Bisexual</td>\n",
       "      <td>1.714026</td>\n",
       "    </tr>\n",
       "  </tbody>\n",
       "</table>\n",
       "</div>"
      ],
      "text/plain": [
       "   Unnamed: 0     StartDate       EndDate               q0001  \\\n",
       "0           1  5/10/18 4:01  5/10/18 4:06  Somewhat masculine   \n",
       "\n",
       "                q0002    q0004_0001    q0004_0002    q0004_0003   q0004_0004  \\\n",
       "0  Somewhat important  Not selected  Not selected  Not selected  Pop culture   \n",
       "\n",
       "     q0004_0005    q0004_0006 q0005 q0007_0001 q0007_0002 q0007_0003  \\\n",
       "0  Not selected  Not selected   Yes      Often      Often      Often   \n",
       "\n",
       "  q0007_0004                 q0007_0005                 q0007_0006 q0007_0007  \\\n",
       "0      Often  Never, and not open to it  Never, and not open to it      Often   \n",
       "\n",
       "  q0007_0008 q0007_0009                 q0007_0010 q0007_0011    q0008_0001  \\\n",
       "0  Sometimes  Sometimes  Never, and not open to it      Often  Not selected   \n",
       "\n",
       "     q0008_0002             q0008_0003    q0008_0004    q0008_0005  \\\n",
       "0  Not selected  Your hair or hairline  Not selected  Not selected   \n",
       "\n",
       "     q0008_0006    q0008_0007    q0008_0008            q0008_0009  \\\n",
       "0  Not selected  Not selected  Not selected  Your physical health   \n",
       "\n",
       "                                          q0008_0010    q0008_0011  \\\n",
       "0  Your finances, including your current or futur...  Not selected   \n",
       "\n",
       "     q0008_0012                               q0009 q0010_0001 q0010_0002  \\\n",
       "0  Not selected  Not employed, NOT looking for work        NaN        NaN   \n",
       "\n",
       "  q0010_0003 q0010_0004 q0010_0005 q0010_0006 q0010_0007 q0010_0008  \\\n",
       "0        NaN        NaN        NaN        NaN        NaN        NaN   \n",
       "\n",
       "  q0011_0001 q0011_0002 q0011_0003 q0011_0004 q0011_0005 q0012_0001  \\\n",
       "0        NaN        NaN        NaN        NaN        NaN        NaN   \n",
       "\n",
       "  q0012_0002 q0012_0003 q0012_0004 q0012_0005 q0012_0006 q0012_0007 q0013  \\\n",
       "0        NaN        NaN        NaN        NaN        NaN        NaN   NaN   \n",
       "\n",
       "  q0014 q0015 q0017      q0018 q0019_0001 q0019_0002 q0019_0003 q0019_0004  \\\n",
       "0   NaN   NaN   Yes  Sometimes        NaN        NaN        NaN        NaN   \n",
       "\n",
       "  q0019_0005 q0019_0006 q0019_0007  \\\n",
       "0        NaN        NaN        NaN   \n",
       "\n",
       "                                          q0020_0001  \\\n",
       "0  Read their physical body language to see if th...   \n",
       "\n",
       "                                 q0020_0002  \\\n",
       "0  Ask for a verbal confirmation of consent   \n",
       "\n",
       "                                   q0020_0003                    q0020_0004  \\\n",
       "0  Make a physical move to see how they react  Every situation is different   \n",
       "\n",
       "                                          q0020_0005    q0020_0006  \\\n",
       "0  It isn?t always clear how to gauge someone?s i...  Not selected   \n",
       "\n",
       "     q0021_0001    q0021_0002    q0021_0003         q0021_0004 q0022  \\\n",
       "0  Not selected  Not selected  Not selected  None of the above    No   \n",
       "\n",
       "           q0024    q0025_0001    q0025_0002   q0025_0003 q0026     q0028  \\\n",
       "0  Never married  Not selected  Not selected  No children   Gay  Hispanic   \n",
       "\n",
       "              q0029     q0030      q0034            q0035  \\\n",
       "0  College graduate  New York  $0-$9,999  Middle Atlantic   \n",
       "\n",
       "                      q0036      race2  racethn4            educ3  \\\n",
       "0  Windows Desktop / Laptop  Non-white  Hispanic  College or more   \n",
       "\n",
       "             educ4     age3         kids   orientation    weight  \n",
       "0  College or more  35 - 64  No children  Gay/Bisexual  1.714026  "
      ]
     },
     "execution_count": 2,
     "metadata": {},
     "output_type": "execute_result"
    }
   ],
   "source": [
    "data = pd.read_csv('https://drive.google.com/uc?id=1T4ak0Nyvt-mrpZPCgAo0aVq4b6LrfCA1')\n",
    "data.head(1)"
   ]
  },
  {
   "cell_type": "markdown",
   "id": "b3ae96d8",
   "metadata": {
    "papermill": {
     "duration": 0.01968,
     "end_time": "2021-12-27T13:49:57.485209",
     "exception": false,
     "start_time": "2021-12-27T13:49:57.465529",
     "status": "completed"
    },
    "tags": []
   },
   "source": [
    "## Data Cleaning"
   ]
  },
  {
   "cell_type": "code",
   "execution_count": 3,
   "id": "f9badadb",
   "metadata": {
    "execution": {
     "iopub.execute_input": "2021-12-27T13:49:57.542411Z",
     "iopub.status.busy": "2021-12-27T13:49:57.540993Z",
     "iopub.status.idle": "2021-12-27T13:49:57.548675Z",
     "shell.execute_reply": "2021-12-27T13:49:57.549241Z",
     "shell.execute_reply.started": "2021-12-27T13:40:50.687160Z"
    },
    "papermill": {
     "duration": 0.044206,
     "end_time": "2021-12-27T13:49:57.549415",
     "exception": false,
     "start_time": "2021-12-27T13:49:57.505209",
     "status": "completed"
    },
    "tags": []
   },
   "outputs": [
    {
     "data": {
      "text/plain": [
       "16612"
      ]
     },
     "execution_count": 3,
     "metadata": {},
     "output_type": "execute_result"
    }
   ],
   "source": [
    "data.isnull().sum().sum()"
   ]
  },
  {
   "cell_type": "code",
   "execution_count": 4,
   "id": "e8d94bc1",
   "metadata": {
    "execution": {
     "iopub.execute_input": "2021-12-27T13:49:57.593920Z",
     "iopub.status.busy": "2021-12-27T13:49:57.592909Z",
     "iopub.status.idle": "2021-12-27T13:49:58.933267Z",
     "shell.execute_reply": "2021-12-27T13:49:58.933775Z",
     "shell.execute_reply.started": "2021-12-27T13:41:48.294253Z"
    },
    "papermill": {
     "duration": 1.364593,
     "end_time": "2021-12-27T13:49:58.933955",
     "exception": false,
     "start_time": "2021-12-27T13:49:57.569362",
     "status": "completed"
    },
    "tags": []
   },
   "outputs": [
    {
     "data": {
      "image/png": "[encoded data removed]",
      "text/plain": [
       "<Figure size 1080x432 with 2 Axes>"
      ]
     },
     "metadata": {},
     "output_type": "display_data"
    }
   ],
   "source": [
    "plt.figure(figsize=(15,6))\n",
    "sns.heatmap(data.isnull(), cmap='cool')\n",
    "plt.show()"
   ]
  },
  {
   "cell_type": "markdown",
   "id": "4a44ee6e",
   "metadata": {
    "papermill": {
     "duration": 0.022389,
     "end_time": "2021-12-27T13:49:58.978524",
     "exception": false,
     "start_time": "2021-12-27T13:49:58.956135",
     "status": "completed"
    },
    "tags": []
   },
   "source": [
    "## Removing Null Values"
   ]
  },
  {
   "cell_type": "code",
   "execution_count": 5,
   "id": "feb0d1e6",
   "metadata": {
    "execution": {
     "iopub.execute_input": "2021-12-27T13:49:59.026106Z",
     "iopub.status.busy": "2021-12-27T13:49:59.025433Z",
     "iopub.status.idle": "2021-12-27T13:49:59.140798Z",
     "shell.execute_reply": "2021-12-27T13:49:59.140217Z",
     "shell.execute_reply.started": "2021-12-27T13:41:50.743230Z"
    },
    "papermill": {
     "duration": 0.13994,
     "end_time": "2021-12-27T13:49:59.140987",
     "exception": false,
     "start_time": "2021-12-27T13:49:59.001047",
     "status": "completed"
    },
    "tags": []
   },
   "outputs": [
    {
     "name": "stdout",
     "output_type": "stream",
     "text": [
      "Initial Null Values - 16612\n",
      "Final Null Values - 27\n"
     ]
    }
   ],
   "source": [
    "print(f'Initial Null Values - {data.isnull().sum().sum()}')\n",
    "for i in data.columns:\n",
    "    if data[i].isnull().sum() > 20:\n",
    "        data.drop(i, axis=1, inplace=True)\n",
    "print(f'Final Null Values - {data.isnull().sum().sum()}')"
   ]
  },
  {
   "cell_type": "code",
   "execution_count": 6,
   "id": "786176d7",
   "metadata": {
    "execution": {
     "iopub.execute_input": "2021-12-27T13:49:59.188573Z",
     "iopub.status.busy": "2021-12-27T13:49:59.187949Z",
     "iopub.status.idle": "2021-12-27T13:49:59.208302Z",
     "shell.execute_reply": "2021-12-27T13:49:59.207617Z",
     "shell.execute_reply.started": "2021-12-27T13:41:52.868253Z"
    },
    "papermill": {
     "duration": 0.045269,
     "end_time": "2021-12-27T13:49:59.208446",
     "exception": false,
     "start_time": "2021-12-27T13:49:59.163177",
     "status": "completed"
    },
    "tags": []
   },
   "outputs": [
    {
     "name": "stdout",
     "output_type": "stream",
     "text": [
      "(1189, 68)\n"
     ]
    },
    {
     "data": {
      "text/plain": [
       "(1171, 68)"
      ]
     },
     "execution_count": 6,
     "metadata": {},
     "output_type": "execute_result"
    }
   ],
   "source": [
    "print(data.shape)\n",
    "data.dropna(inplace=True)\n",
    "data.shape"
   ]
  },
  {
   "cell_type": "code",
   "execution_count": 7,
   "id": "34c54696",
   "metadata": {
    "execution": {
     "iopub.execute_input": "2021-12-27T13:49:59.261157Z",
     "iopub.status.busy": "2021-12-27T13:49:59.260168Z",
     "iopub.status.idle": "2021-12-27T13:49:59.262393Z",
     "shell.execute_reply": "2021-12-27T13:49:59.262831Z",
     "shell.execute_reply.started": "2021-12-27T13:41:54.273627Z"
    },
    "papermill": {
     "duration": 0.031487,
     "end_time": "2021-12-27T13:49:59.263034",
     "exception": false,
     "start_time": "2021-12-27T13:49:59.231547",
     "status": "completed"
    },
    "tags": []
   },
   "outputs": [],
   "source": [
    "data.rename(columns = {'Unnamed: 0':'Id', 'q0001':'Masculinity'}, inplace=True)"
   ]
  },
  {
   "cell_type": "markdown",
   "id": "be6ba340",
   "metadata": {
    "papermill": {
     "duration": 0.022821,
     "end_time": "2021-12-27T13:49:59.309006",
     "exception": false,
     "start_time": "2021-12-27T13:49:59.286185",
     "status": "completed"
    },
    "tags": []
   },
   "source": [
    "## Removing Unnecessary Columns "
   ]
  },
  {
   "cell_type": "code",
   "execution_count": 8,
   "id": "7f7d59cd",
   "metadata": {
    "execution": {
     "iopub.execute_input": "2021-12-27T13:49:59.357873Z",
     "iopub.status.busy": "2021-12-27T13:49:59.356909Z",
     "iopub.status.idle": "2021-12-27T13:49:59.425901Z",
     "shell.execute_reply": "2021-12-27T13:49:59.425300Z",
     "shell.execute_reply.started": "2021-12-27T13:43:19.849442Z"
    },
    "papermill": {
     "duration": 0.09465,
     "end_time": "2021-12-27T13:49:59.426050",
     "exception": false,
     "start_time": "2021-12-27T13:49:59.331400",
     "status": "completed"
    },
    "tags": []
   },
   "outputs": [
    {
     "data": {
      "text/plain": [
       "(1171, 39)"
      ]
     },
     "execution_count": 8,
     "metadata": {},
     "output_type": "execute_result"
    }
   ],
   "source": [
    "for i in data.columns:\n",
    "    if (data[i] == 'Not selected').sum() > 400:\n",
    "        data.drop(i, axis=1, inplace=True)\n",
    "data.shape"
   ]
  },
  {
   "cell_type": "code",
   "execution_count": 9,
   "id": "362b1d2c",
   "metadata": {
    "execution": {
     "iopub.execute_input": "2021-12-27T13:49:59.476447Z",
     "iopub.status.busy": "2021-12-27T13:49:59.475506Z",
     "iopub.status.idle": "2021-12-27T13:49:59.480245Z",
     "shell.execute_reply": "2021-12-27T13:49:59.480785Z",
     "shell.execute_reply.started": "2021-12-27T13:44:42.182276Z"
    },
    "papermill": {
     "duration": 0.031575,
     "end_time": "2021-12-27T13:49:59.480969",
     "exception": false,
     "start_time": "2021-12-27T13:49:59.449394",
     "status": "completed"
    },
    "tags": []
   },
   "outputs": [],
   "source": [
    "X = data.drop(['Id', 'Masculinity'], axis=1)"
   ]
  },
  {
   "cell_type": "markdown",
   "id": "4864bb7f",
   "metadata": {
    "papermill": {
     "duration": 0.02281,
     "end_time": "2021-12-27T13:49:59.527141",
     "exception": false,
     "start_time": "2021-12-27T13:49:59.504331",
     "status": "completed"
    },
    "tags": []
   },
   "source": [
    "## Label Encoding"
   ]
  },
  {
   "cell_type": "code",
   "execution_count": 10,
   "id": "34a54603",
   "metadata": {
    "execution": {
     "iopub.execute_input": "2021-12-27T13:49:59.576700Z",
     "iopub.status.busy": "2021-12-27T13:49:59.575697Z",
     "iopub.status.idle": "2021-12-27T13:49:59.734498Z",
     "shell.execute_reply": "2021-12-27T13:49:59.735035Z",
     "shell.execute_reply.started": "2021-12-27T13:44:44.607564Z"
    },
    "papermill": {
     "duration": 0.185318,
     "end_time": "2021-12-27T13:49:59.735209",
     "exception": false,
     "start_time": "2021-12-27T13:49:59.549891",
     "status": "completed"
    },
    "tags": []
   },
   "outputs": [
    {
     "data": {
      "text/html": [
       "<div>\n",
       "<style scoped>\n",
       "    .dataframe tbody tr th:only-of-type {\n",
       "        vertical-align: middle;\n",
       "    }\n",
       "\n",
       "    .dataframe tbody tr th {\n",
       "        vertical-align: top;\n",
       "    }\n",
       "\n",
       "    .dataframe thead th {\n",
       "        text-align: right;\n",
       "    }\n",
       "</style>\n",
       "<table border=\"1\" class=\"dataframe\">\n",
       "  <thead>\n",
       "    <tr style=\"text-align: right;\">\n",
       "      <th></th>\n",
       "      <th>StartDate</th>\n",
       "      <th>EndDate</th>\n",
       "      <th>q0002</th>\n",
       "      <th>q0004_0001</th>\n",
       "      <th>q0005</th>\n",
       "      <th>q0007_0001</th>\n",
       "      <th>q0007_0002</th>\n",
       "      <th>q0007_0003</th>\n",
       "      <th>q0007_0004</th>\n",
       "      <th>q0007_0005</th>\n",
       "      <th>q0007_0006</th>\n",
       "      <th>q0007_0007</th>\n",
       "      <th>q0007_0008</th>\n",
       "      <th>q0007_0009</th>\n",
       "      <th>q0007_0010</th>\n",
       "      <th>q0007_0011</th>\n",
       "      <th>q0009</th>\n",
       "      <th>q0017</th>\n",
       "      <th>q0018</th>\n",
       "      <th>q0021_0004</th>\n",
       "      <th>q0022</th>\n",
       "      <th>q0024</th>\n",
       "      <th>q0026</th>\n",
       "      <th>q0028</th>\n",
       "      <th>q0029</th>\n",
       "      <th>q0030</th>\n",
       "      <th>q0034</th>\n",
       "      <th>q0035</th>\n",
       "      <th>q0036</th>\n",
       "      <th>race2</th>\n",
       "      <th>racethn4</th>\n",
       "      <th>educ3</th>\n",
       "      <th>educ4</th>\n",
       "      <th>age3</th>\n",
       "      <th>kids</th>\n",
       "      <th>orientation</th>\n",
       "      <th>weight</th>\n",
       "    </tr>\n",
       "  </thead>\n",
       "  <tbody>\n",
       "    <tr>\n",
       "      <th>0</th>\n",
       "      <td>2</td>\n",
       "      <td>2</td>\n",
       "      <td>3</td>\n",
       "      <td>1</td>\n",
       "      <td>2</td>\n",
       "      <td>3</td>\n",
       "      <td>3</td>\n",
       "      <td>3</td>\n",
       "      <td>3</td>\n",
       "      <td>0</td>\n",
       "      <td>0</td>\n",
       "      <td>3</td>\n",
       "      <td>5</td>\n",
       "      <td>5</td>\n",
       "      <td>0</td>\n",
       "      <td>3</td>\n",
       "      <td>3</td>\n",
       "      <td>2</td>\n",
       "      <td>5</td>\n",
       "      <td>0</td>\n",
       "      <td>0</td>\n",
       "      <td>2</td>\n",
       "      <td>1</td>\n",
       "      <td>2</td>\n",
       "      <td>1</td>\n",
       "      <td>32</td>\n",
       "      <td>0</td>\n",
       "      <td>2</td>\n",
       "      <td>3</td>\n",
       "      <td>0</td>\n",
       "      <td>1</td>\n",
       "      <td>0</td>\n",
       "      <td>0</td>\n",
       "      <td>1</td>\n",
       "      <td>1</td>\n",
       "      <td>0</td>\n",
       "      <td>323</td>\n",
       "    </tr>\n",
       "    <tr>\n",
       "      <th>1</th>\n",
       "      <td>3</td>\n",
       "      <td>3</td>\n",
       "      <td>3</td>\n",
       "      <td>0</td>\n",
       "      <td>2</td>\n",
       "      <td>4</td>\n",
       "      <td>5</td>\n",
       "      <td>1</td>\n",
       "      <td>4</td>\n",
       "      <td>0</td>\n",
       "      <td>4</td>\n",
       "      <td>0</td>\n",
       "      <td>3</td>\n",
       "      <td>0</td>\n",
       "      <td>5</td>\n",
       "      <td>2</td>\n",
       "      <td>6</td>\n",
       "      <td>0</td>\n",
       "      <td>4</td>\n",
       "      <td>0</td>\n",
       "      <td>0</td>\n",
       "      <td>5</td>\n",
       "      <td>4</td>\n",
       "      <td>4</td>\n",
       "      <td>5</td>\n",
       "      <td>35</td>\n",
       "      <td>8</td>\n",
       "      <td>0</td>\n",
       "      <td>4</td>\n",
       "      <td>1</td>\n",
       "      <td>3</td>\n",
       "      <td>2</td>\n",
       "      <td>3</td>\n",
       "      <td>2</td>\n",
       "      <td>0</td>\n",
       "      <td>3</td>\n",
       "      <td>294</td>\n",
       "    </tr>\n",
       "  </tbody>\n",
       "</table>\n",
       "</div>"
      ],
      "text/plain": [
       "   StartDate  EndDate  q0002  q0004_0001  q0005  q0007_0001  q0007_0002  \\\n",
       "0          2        2      3           1      2           3           3   \n",
       "1          3        3      3           0      2           4           5   \n",
       "\n",
       "   q0007_0003  q0007_0004  q0007_0005  q0007_0006  q0007_0007  q0007_0008  \\\n",
       "0           3           3           0           0           3           5   \n",
       "1           1           4           0           4           0           3   \n",
       "\n",
       "   q0007_0009  q0007_0010  q0007_0011  q0009  q0017  q0018  q0021_0004  q0022  \\\n",
       "0           5           0           3      3      2      5           0      0   \n",
       "1           0           5           2      6      0      4           0      0   \n",
       "\n",
       "   q0024  q0026  q0028  q0029  q0030  q0034  q0035  q0036  race2  racethn4  \\\n",
       "0      2      1      2      1     32      0      2      3      0         1   \n",
       "1      5      4      4      5     35      8      0      4      1         3   \n",
       "\n",
       "   educ3  educ4  age3  kids  orientation  weight  \n",
       "0      0      0     1     1            0     323  \n",
       "1      2      3     2     0            3     294  "
      ]
     },
     "execution_count": 10,
     "metadata": {},
     "output_type": "execute_result"
    }
   ],
   "source": [
    "from sklearn.preprocessing import MinMaxScaler, LabelEncoder\n",
    "label = LabelEncoder()\n",
    "for i in X.columns:\n",
    "    X[i] = label.fit_transform(X[i])\n",
    "X.head(2)"
   ]
  },
  {
   "cell_type": "markdown",
   "id": "e51b1c4c",
   "metadata": {
    "papermill": {
     "duration": 0.023398,
     "end_time": "2021-12-27T13:49:59.782185",
     "exception": false,
     "start_time": "2021-12-27T13:49:59.758787",
     "status": "completed"
    },
    "tags": []
   },
   "source": [
    "## Feature Scaling"
   ]
  },
  {
   "cell_type": "code",
   "execution_count": 11,
   "id": "4b2554c1",
   "metadata": {
    "execution": {
     "iopub.execute_input": "2021-12-27T13:49:59.833682Z",
     "iopub.status.busy": "2021-12-27T13:49:59.833033Z",
     "iopub.status.idle": "2021-12-27T13:49:59.987205Z",
     "shell.execute_reply": "2021-12-27T13:49:59.986537Z",
     "shell.execute_reply.started": "2021-12-27T13:44:48.382098Z"
    },
    "papermill": {
     "duration": 0.181443,
     "end_time": "2021-12-27T13:49:59.987349",
     "exception": false,
     "start_time": "2021-12-27T13:49:59.805906",
     "status": "completed"
    },
    "tags": []
   },
   "outputs": [
    {
     "data": {
      "text/html": [
       "<div>\n",
       "<style scoped>\n",
       "    .dataframe tbody tr th:only-of-type {\n",
       "        vertical-align: middle;\n",
       "    }\n",
       "\n",
       "    .dataframe tbody tr th {\n",
       "        vertical-align: top;\n",
       "    }\n",
       "\n",
       "    .dataframe thead th {\n",
       "        text-align: right;\n",
       "    }\n",
       "</style>\n",
       "<table border=\"1\" class=\"dataframe\">\n",
       "  <thead>\n",
       "    <tr style=\"text-align: right;\">\n",
       "      <th></th>\n",
       "      <th>StartDate</th>\n",
       "      <th>EndDate</th>\n",
       "      <th>q0002</th>\n",
       "      <th>q0004_0001</th>\n",
       "      <th>q0005</th>\n",
       "      <th>q0007_0001</th>\n",
       "      <th>q0007_0002</th>\n",
       "      <th>q0007_0003</th>\n",
       "      <th>q0007_0004</th>\n",
       "      <th>q0007_0005</th>\n",
       "      <th>q0007_0006</th>\n",
       "      <th>q0007_0007</th>\n",
       "      <th>q0007_0008</th>\n",
       "      <th>q0007_0009</th>\n",
       "      <th>q0007_0010</th>\n",
       "      <th>q0007_0011</th>\n",
       "      <th>q0009</th>\n",
       "      <th>q0017</th>\n",
       "      <th>q0018</th>\n",
       "      <th>q0021_0004</th>\n",
       "      <th>q0022</th>\n",
       "      <th>q0024</th>\n",
       "      <th>q0026</th>\n",
       "      <th>q0028</th>\n",
       "      <th>q0029</th>\n",
       "      <th>q0030</th>\n",
       "      <th>q0034</th>\n",
       "      <th>q0035</th>\n",
       "      <th>q0036</th>\n",
       "      <th>race2</th>\n",
       "      <th>racethn4</th>\n",
       "      <th>educ3</th>\n",
       "      <th>educ4</th>\n",
       "      <th>age3</th>\n",
       "      <th>kids</th>\n",
       "      <th>orientation</th>\n",
       "      <th>weight</th>\n",
       "    </tr>\n",
       "  </thead>\n",
       "  <tbody>\n",
       "    <tr>\n",
       "      <th>0</th>\n",
       "      <td>0.001969</td>\n",
       "      <td>0.00198</td>\n",
       "      <td>0.75</td>\n",
       "      <td>1.0</td>\n",
       "      <td>1.0</td>\n",
       "      <td>0.6</td>\n",
       "      <td>0.6</td>\n",
       "      <td>0.6</td>\n",
       "      <td>0.6</td>\n",
       "      <td>0.0</td>\n",
       "      <td>0.0</td>\n",
       "      <td>0.6</td>\n",
       "      <td>1.0</td>\n",
       "      <td>1.0</td>\n",
       "      <td>0.0</td>\n",
       "      <td>0.6</td>\n",
       "      <td>0.5</td>\n",
       "      <td>1.0</td>\n",
       "      <td>1.0</td>\n",
       "      <td>0.0</td>\n",
       "      <td>0.0</td>\n",
       "      <td>0.4</td>\n",
       "      <td>0.25</td>\n",
       "      <td>0.5</td>\n",
       "      <td>0.2</td>\n",
       "      <td>0.64</td>\n",
       "      <td>0.0</td>\n",
       "      <td>0.25</td>\n",
       "      <td>0.75</td>\n",
       "      <td>0.0</td>\n",
       "      <td>0.333333</td>\n",
       "      <td>0.0</td>\n",
       "      <td>0.0</td>\n",
       "      <td>0.5</td>\n",
       "      <td>1.0</td>\n",
       "      <td>0.0</td>\n",
       "      <td>0.737443</td>\n",
       "    </tr>\n",
       "    <tr>\n",
       "      <th>1</th>\n",
       "      <td>0.002953</td>\n",
       "      <td>0.00297</td>\n",
       "      <td>0.75</td>\n",
       "      <td>0.0</td>\n",
       "      <td>1.0</td>\n",
       "      <td>0.8</td>\n",
       "      <td>1.0</td>\n",
       "      <td>0.2</td>\n",
       "      <td>0.8</td>\n",
       "      <td>0.0</td>\n",
       "      <td>0.8</td>\n",
       "      <td>0.0</td>\n",
       "      <td>0.6</td>\n",
       "      <td>0.0</td>\n",
       "      <td>1.0</td>\n",
       "      <td>0.4</td>\n",
       "      <td>1.0</td>\n",
       "      <td>0.0</td>\n",
       "      <td>0.8</td>\n",
       "      <td>0.0</td>\n",
       "      <td>0.0</td>\n",
       "      <td>1.0</td>\n",
       "      <td>1.00</td>\n",
       "      <td>1.0</td>\n",
       "      <td>1.0</td>\n",
       "      <td>0.70</td>\n",
       "      <td>0.8</td>\n",
       "      <td>0.00</td>\n",
       "      <td>1.00</td>\n",
       "      <td>1.0</td>\n",
       "      <td>1.000000</td>\n",
       "      <td>1.0</td>\n",
       "      <td>1.0</td>\n",
       "      <td>1.0</td>\n",
       "      <td>0.0</td>\n",
       "      <td>1.0</td>\n",
       "      <td>0.671233</td>\n",
       "    </tr>\n",
       "  </tbody>\n",
       "</table>\n",
       "</div>"
      ],
      "text/plain": [
       "   StartDate  EndDate  q0002  q0004_0001  q0005  q0007_0001  q0007_0002  \\\n",
       "0   0.001969  0.00198   0.75         1.0    1.0         0.6         0.6   \n",
       "1   0.002953  0.00297   0.75         0.0    1.0         0.8         1.0   \n",
       "\n",
       "   q0007_0003  q0007_0004  q0007_0005  q0007_0006  q0007_0007  q0007_0008  \\\n",
       "0         0.6         0.6         0.0         0.0         0.6         1.0   \n",
       "1         0.2         0.8         0.0         0.8         0.0         0.6   \n",
       "\n",
       "   q0007_0009  q0007_0010  q0007_0011  q0009  q0017  q0018  q0021_0004  q0022  \\\n",
       "0         1.0         0.0         0.6    0.5    1.0    1.0         0.0    0.0   \n",
       "1         0.0         1.0         0.4    1.0    0.0    0.8         0.0    0.0   \n",
       "\n",
       "   q0024  q0026  q0028  q0029  q0030  q0034  q0035  q0036  race2  racethn4  \\\n",
       "0    0.4   0.25    0.5    0.2   0.64    0.0   0.25   0.75    0.0  0.333333   \n",
       "1    1.0   1.00    1.0    1.0   0.70    0.8   0.00   1.00    1.0  1.000000   \n",
       "\n",
       "   educ3  educ4  age3  kids  orientation    weight  \n",
       "0    0.0    0.0   0.5   1.0          0.0  0.737443  \n",
       "1    1.0    1.0   1.0   0.0          1.0  0.671233  "
      ]
     },
     "execution_count": 11,
     "metadata": {},
     "output_type": "execute_result"
    }
   ],
   "source": [
    "scaler = MinMaxScaler()\n",
    "for i in X.columns:\n",
    "    X[i] = scaler.fit_transform(X[[i]])\n",
    "X.head(2)"
   ]
  },
  {
   "cell_type": "code",
   "execution_count": 12,
   "id": "fea4a845",
   "metadata": {
    "execution": {
     "iopub.execute_input": "2021-12-27T13:50:00.042534Z",
     "iopub.status.busy": "2021-12-27T13:50:00.041527Z",
     "iopub.status.idle": "2021-12-27T13:50:00.230467Z",
     "shell.execute_reply": "2021-12-27T13:50:00.231491Z",
     "shell.execute_reply.started": "2021-12-27T13:44:51.507683Z"
    },
    "papermill": {
     "duration": 0.218758,
     "end_time": "2021-12-27T13:50:00.231786",
     "exception": false,
     "start_time": "2021-12-27T13:50:00.013028",
     "status": "completed"
    },
    "tags": []
   },
   "outputs": [],
   "source": [
    "from sklearn.decomposition import PCA\n",
    "pca = PCA(2)\n",
    "X = pca.fit_transform(X)"
   ]
  },
  {
   "cell_type": "markdown",
   "id": "d9a73113",
   "metadata": {
    "papermill": {
     "duration": 0.044478,
     "end_time": "2021-12-27T13:50:00.321127",
     "exception": false,
     "start_time": "2021-12-27T13:50:00.276649",
     "status": "completed"
    },
    "tags": []
   },
   "source": [
    "## Selecting correct number of Clusters using Elbow Method"
   ]
  },
  {
   "cell_type": "code",
   "execution_count": 13,
   "id": "0287166f",
   "metadata": {
    "execution": {
     "iopub.execute_input": "2021-12-27T13:50:00.386050Z",
     "iopub.status.busy": "2021-12-27T13:50:00.385112Z",
     "iopub.status.idle": "2021-12-27T13:50:01.550132Z",
     "shell.execute_reply": "2021-12-27T13:50:01.550670Z",
     "shell.execute_reply.started": "2021-12-27T13:46:52.647791Z"
    },
    "papermill": {
     "duration": 1.19488,
     "end_time": "2021-12-27T13:50:01.550873",
     "exception": false,
     "start_time": "2021-12-27T13:50:00.355993",
     "status": "completed"
    },
    "tags": []
   },
   "outputs": [],
   "source": [
    "from sklearn.cluster import KMeans\n",
    "\n",
    "l  = []\n",
    "for i in range(1,10):\n",
    "    model = KMeans(n_clusters=i, random_state = 42)\n",
    "    model.fit(X)\n",
    "    l.append(model.inertia_)"
   ]
  },
  {
   "cell_type": "code",
   "execution_count": 14,
   "id": "6f5917c0",
   "metadata": {
    "execution": {
     "iopub.execute_input": "2021-12-27T13:50:01.626611Z",
     "iopub.status.busy": "2021-12-27T13:50:01.625898Z",
     "iopub.status.idle": "2021-12-27T13:50:01.906131Z",
     "shell.execute_reply": "2021-12-27T13:50:01.907229Z",
     "shell.execute_reply.started": "2021-12-27T13:49:06.373172Z"
    },
    "papermill": {
     "duration": 0.327062,
     "end_time": "2021-12-27T13:50:01.907433",
     "exception": false,
     "start_time": "2021-12-27T13:50:01.580371",
     "status": "completed"
    },
    "tags": []
   },
   "outputs": [
    {
     "data": {
      "image/png": "[encoded data removed]",
      "text/plain": [
       "<Figure size 720x360 with 1 Axes>"
      ]
     },
     "metadata": {},
     "output_type": "display_data"
    }
   ],
   "source": [
    "plt.figure(figsize=(10,5))\n",
    "plt.plot(range(1, 10), l)\n",
    "plt.show()"
   ]
  },
  {
   "cell_type": "markdown",
   "id": "a4197d36",
   "metadata": {
    "papermill": {
     "duration": 0.031288,
     "end_time": "2021-12-27T13:50:01.969785",
     "exception": false,
     "start_time": "2021-12-27T13:50:01.938497",
     "status": "completed"
    },
    "tags": []
   },
   "source": [
    "### We'll select 3 as the number of clusters"
   ]
  },
  {
   "cell_type": "markdown",
   "id": "0c923734",
   "metadata": {
    "papermill": {
     "duration": 0.031907,
     "end_time": "2021-12-27T13:50:02.031712",
     "exception": false,
     "start_time": "2021-12-27T13:50:01.999805",
     "status": "completed"
    },
    "tags": []
   },
   "source": [
    "## Model Training"
   ]
  },
  {
   "cell_type": "code",
   "execution_count": 15,
   "id": "ae219391",
   "metadata": {
    "execution": {
     "iopub.execute_input": "2021-12-27T13:50:02.103328Z",
     "iopub.status.busy": "2021-12-27T13:50:02.102581Z",
     "iopub.status.idle": "2021-12-27T13:50:02.184094Z",
     "shell.execute_reply": "2021-12-27T13:50:02.184702Z",
     "shell.execute_reply.started": "2021-12-27T13:47:36.718703Z"
    },
    "papermill": {
     "duration": 0.122696,
     "end_time": "2021-12-27T13:50:02.184919",
     "exception": false,
     "start_time": "2021-12-27T13:50:02.062223",
     "status": "completed"
    },
    "tags": []
   },
   "outputs": [],
   "source": [
    "model = KMeans(n_clusters=3, random_state=42)\n",
    "\n",
    "y = model.fit_predict(X)"
   ]
  },
  {
   "cell_type": "markdown",
   "id": "86bb5c8d",
   "metadata": {
    "papermill": {
     "duration": 0.029386,
     "end_time": "2021-12-27T13:50:02.244189",
     "exception": false,
     "start_time": "2021-12-27T13:50:02.214803",
     "status": "completed"
    },
    "tags": []
   },
   "source": [
    "## Visualizing Output"
   ]
  },
  {
   "cell_type": "code",
   "execution_count": 16,
   "id": "038b6dfd",
   "metadata": {
    "execution": {
     "iopub.execute_input": "2021-12-27T13:50:02.312472Z",
     "iopub.status.busy": "2021-12-27T13:50:02.311708Z",
     "iopub.status.idle": "2021-12-27T13:50:02.730577Z",
     "shell.execute_reply": "2021-12-27T13:50:02.731651Z",
     "shell.execute_reply.started": "2021-12-27T13:48:35.344056Z"
    },
    "papermill": {
     "duration": 0.45785,
     "end_time": "2021-12-27T13:50:02.731881",
     "exception": false,
     "start_time": "2021-12-27T13:50:02.274031",
     "status": "completed"
    },
    "tags": []
   },
   "outputs": [
    {
     "data": {
      "image/png": "[encoded data removed]",
      "text/plain": [
       "<Figure size 1080x576 with 1 Axes>"
      ]
     },
     "metadata": {},
     "output_type": "display_data"
    }
   ],
   "source": [
    "plt.figure(figsize=(15,8))\n",
    "plt.scatter(X[y == 0, 0], X[y == 0, 1], s = 100, c = 'red', marker='+', label = 'Somewhat masculine')\n",
    "plt.scatter(X[y == 1, 0], X[y == 1, 1], s = 100, c = 'blue', marker='+', label = 'Very masculine')\n",
    "plt.scatter(X[y == 2, 0], X[y == 2, 1], s = 100, c = 'green', marker='+', label = 'Not at all masculine')\n",
    "plt.scatter(model.cluster_centers_[:,0],model.cluster_centers_[:,1], s = 100, color='black', label='centroid')\n",
    "plt.legend()\n",
    "plt.show()"
   ]
  }
 ],
 "metadata": {
  "kernelspec": {
   "display_name": "Python 3",
   "language": "python",
   "name": "python3"
  },
  "language_info": {
   "codemirror_mode": {
    "name": "ipython",
    "version": 3
   },
   "file_extension": ".py",
   "mimetype": "text/x-python",
   "name": "python",
   "nbconvert_exporter": "python",
   "pygments_lexer": "ipython3",
   "version": "3.7.12"
  },
  "papermill": {
   "default_parameters": {},
   "duration": 20.51638,
   "end_time": "2021-12-27T13:50:03.689315",
   "environment_variables": {},
   "exception": null,
   "input_path": "__notebook__.ipynb",
   "output_path": "__notebook__.ipynb",
   "parameters": {},
   "start_time": "2021-12-27T13:49:43.172935",
   "version": "2.3.3"
  }
 },
 "nbformat": 4,
 "nbformat_minor": 5
}
